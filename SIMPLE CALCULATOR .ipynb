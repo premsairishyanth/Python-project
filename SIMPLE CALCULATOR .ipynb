{
 "cells": [
  {
   "cell_type": "markdown",
   "id": "2b44c997",
   "metadata": {},
   "source": [
    "# SIMPLE CALCULATOR USING PYTHON PROGRAMMING"
   ]
  },
  {
   "cell_type": "code",
   "execution_count": null,
   "id": "3b6e2de7",
   "metadata": {},
   "outputs": [
    {
     "name": "stdout",
     "output_type": "stream",
     "text": [
      "1.ADDITION\n",
      "2.MULTIPLICATION\n",
      "3.SUBTRACTION\n",
      "4.DIVISION\n",
      "5.EXIT\n"
     ]
    }
   ],
   "source": [
    "while True:\n",
    "    print(\"1.ADDITION\")\n",
    "    print(\"2.MULTIPLICATION\")\n",
    "    print(\"3.SUBTRACTION\")\n",
    "    print(\"4.DIVISION\")\n",
    "    print(\"5.EXIT\")\n",
    "\n",
    "\n",
    "    choice=int(input(\"Enter your choice:\"))\n",
    "\n",
    "    if choice==1:\n",
    "        a=float(input(\"Enter the first number:\"))\n",
    "        b=float(input(\"Enter the second number:\"))\n",
    "        c=a+b\n",
    "        print(\"The sum of the given number is: \" ,a+b)\n",
    "    elif choice==2:\n",
    "        a=float(input(\"Enter the first number:\"))\n",
    "        b=float(input(\"Enter the second number:\"))\n",
    "        c=a*b\n",
    "        print(\"The sum of the given number is: \" ,a*b)\n",
    "    elif choice==3:\n",
    "        a=float(input(\"Enter the first number:\"))\n",
    "        b=float(input(\"Enter the second number:\"))\n",
    "        c=a-b\n",
    "        print(\"The sum of the given number is: \", a-b)\n",
    "    elif choice==4:\n",
    "        a=float(input(\"Enter the first number:\"))\n",
    "        b=float(input(\"Enter the second number:\"))\n",
    "        c=a/b\n",
    "        print(\"The sum of the given number is: \", a/b)\n",
    "    elif choice==5:\n",
    "        print(\"Thankyou Goodbye :)\")\n",
    "        break\n",
    "\n",
    "\n"
   ]
  },
  {
   "cell_type": "code",
   "execution_count": null,
   "id": "a67da8d3",
   "metadata": {},
   "outputs": [],
   "source": []
  },
  {
   "cell_type": "code",
   "execution_count": null,
   "id": "8d434c98",
   "metadata": {},
   "outputs": [],
   "source": []
  }
 ],
 "metadata": {
  "kernelspec": {
   "display_name": "Python 3 (ipykernel)",
   "language": "python",
   "name": "python3"
  },
  "language_info": {
   "codemirror_mode": {
    "name": "ipython",
    "version": 3
   },
   "file_extension": ".py",
   "mimetype": "text/x-python",
   "name": "python",
   "nbconvert_exporter": "python",
   "pygments_lexer": "ipython3",
   "version": "3.11.4"
  }
 },
 "nbformat": 4,
 "nbformat_minor": 5
}
