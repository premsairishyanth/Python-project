{
 "cells": [
  {
   "cell_type": "markdown",
   "id": "b372e0dc",
   "metadata": {},
   "source": [
    "# SPEED TYPING TEST USING PYTHON PROGRAMMING "
   ]
  },
  {
   "cell_type": "code",
   "execution_count": null,
   "id": "7d22d5ad",
   "metadata": {},
   "outputs": [
    {
     "name": "stdout",
     "output_type": "stream",
     "text": [
      "Welcome to the speed typing test.\n"
     ]
    }
   ],
   "source": [
    "import time\n",
    "print(\"Welcome to the speed typing test.\")\n",
    "input(\"Press 'ENTER' to generate the sentence\")\n",
    "sentence='The quick brown fox jumps over the lazy dog'\n",
    "print(sentence)\n",
    "input(\"press 'ENTER' when you are ready to type\")\n",
    "start_time = time.time()\n",
    "text=input(\"start typing here :- \")\n",
    "end_time = time.time()\n",
    "time_taken = end_time - start_time\n",
    "words=len(text.split())\n",
    "speed= (words/time_taken)*60\n",
    "print(\"Time taken:-\",time_taken,\"Seconds\")\n",
    "print(\"Typing speed\",speed,\"Words per minute\")\n",
    "\n",
    "\n"
   ]
  },
  {
   "cell_type": "code",
   "execution_count": null,
   "id": "261fff83",
   "metadata": {},
   "outputs": [],
   "source": []
  }
 ],
 "metadata": {
  "kernelspec": {
   "display_name": "Python 3 (ipykernel)",
   "language": "python",
   "name": "python3"
  },
  "language_info": {
   "codemirror_mode": {
    "name": "ipython",
    "version": 3
   },
   "file_extension": ".py",
   "mimetype": "text/x-python",
   "name": "python",
   "nbconvert_exporter": "python",
   "pygments_lexer": "ipython3",
   "version": "3.11.4"
  }
 },
 "nbformat": 4,
 "nbformat_minor": 5
}
