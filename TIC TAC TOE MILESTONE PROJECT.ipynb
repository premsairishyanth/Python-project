{
 "cells": [
  {
   "cell_type": "markdown",
   "id": "2fc646fe",
   "metadata": {},
   "source": [
    "## TIC TAC TOE USING PYTHON PROGRAMMING WITH THE HELP OF FUNCTIONS"
   ]
  },
  {
   "cell_type": "code",
   "execution_count": 1,
   "id": "5d9c1585",
   "metadata": {},
   "outputs": [],
   "source": [
    "def display(board):\n",
    "    print(board[1]+'|'+board[2]+'|'+board[3])\n",
    "    print(board[4]+'|'+board[5]+'|'+board[6])\n",
    "    print(board[7]+'|'+board[8]+'|'+board[9])"
   ]
  },
  {
   "cell_type": "code",
   "execution_count": 2,
   "id": "b5dfc9f2",
   "metadata": {},
   "outputs": [],
   "source": [
    "def player_input():\n",
    "    marker=''\n",
    "    while marker not in ['X','0']:\n",
    "        marker=input(\"Player 1 --> Do you want to be X or O:\")\n",
    "        if marker not in ['X','O']:\n",
    "            print(\"WRONG CHOICE PLEASE CHOOSE PROPERLY\")\n",
    "        if marker == 'X':\n",
    "            return ('X','O')\n",
    "        else:\n",
    "            return ('O','X')\n",
    "            "
   ]
  },
  {
   "cell_type": "code",
   "execution_count": 3,
   "id": "5679c2de",
   "metadata": {},
   "outputs": [],
   "source": [
    "def place_marker(board,marker,position):\n",
    "    board[position]=marker"
   ]
  },
  {
   "cell_type": "code",
   "execution_count": 4,
   "id": "b7dcb308",
   "metadata": {},
   "outputs": [],
   "source": [
    "def win_check(board,mark):\n",
    "    return ((board[1]==mark and board[2]==mark and board[3]==mark) or \n",
    "    (board[4]==mark and board[5]==mark and board[6]==mark) or\n",
    "    (board[7]==mark and board[8]==mark and board[9]==mark) or\n",
    "    (board[1]==mark and board[5]==mark and board[9]==mark) or\n",
    "    (board[3]==mark and board[5]==mark and board[7]==mark) or\n",
    "    (board[1]==mark and board[4]==mark and board[7]==mark) or\n",
    "    (board[2]==mark and board[5]==mark and board[8]==mark) or\n",
    "    (board[3]==mark and board[6]==mark and board[9]==mark))"
   ]
  },
  {
   "cell_type": "code",
   "execution_count": 5,
   "id": "3d796956",
   "metadata": {},
   "outputs": [],
   "source": [
    "def space_check(board,position):\n",
    "    return board[position]==' '\n",
    "    "
   ]
  },
  {
   "cell_type": "code",
   "execution_count": 6,
   "id": "7e3e5510",
   "metadata": {},
   "outputs": [],
   "source": [
    "def full_board(board):\n",
    "    for i in range(1,10):\n",
    "        if space_check(board,i):\n",
    "            return False\n",
    "    return True"
   ]
  },
  {
   "cell_type": "code",
   "execution_count": 7,
   "id": "b6ff13ab",
   "metadata": {},
   "outputs": [],
   "source": [
    "import random\n",
    "def choose_first():\n",
    "    choice = random.randint(0,1)\n",
    "    if choice==0:\n",
    "        return 'Player 1'\n",
    "    else:\n",
    "        return 'Player 2'\n",
    "        "
   ]
  },
  {
   "cell_type": "code",
   "execution_count": 8,
   "id": "96d9b37c",
   "metadata": {},
   "outputs": [],
   "source": [
    "def replay():\n",
    "    return input('Do you want to play again? Enter Yes or No: ')"
   ]
  },
  {
   "cell_type": "code",
   "execution_count": 9,
   "id": "0e7e5abe",
   "metadata": {},
   "outputs": [],
   "source": [
    "def player_choice(board):\n",
    "    position = 0\n",
    "    \n",
    "    while position not in [1,2,3,4,5,6,7,8,9] or not space_check(board, position):\n",
    "        position = int(input('Choose your next position: (1-9) '))\n",
    "        \n",
    "    return position"
   ]
  },
  {
   "cell_type": "code",
   "execution_count": null,
   "id": "1c760960",
   "metadata": {
    "scrolled": false
   },
   "outputs": [
    {
     "name": "stdout",
     "output_type": "stream",
     "text": [
      "Welcome to the Tic Tac Toe Game\n"
     ]
    }
   ],
   "source": [
    "print(\"Welcome to the Tic Tac Toe Game\")\n",
    "while True:\n",
    "    theboard=[' ']*10\n",
    "    player1_marker,player2_marker=player_input()\n",
    "    turn=choose_first()\n",
    "    print(turn+'will go first')\n",
    "    play_game= input('Are you ready to play enter Y or N')\n",
    "    if play_game=='Y':\n",
    "        game_on=True\n",
    "    else:\n",
    "        game_on=False\n",
    "        \n",
    "    while game_on:\n",
    "        if turn=='Player 1':\n",
    "            display(theboard)\n",
    "            position=player_choice(theboard)\n",
    "            place_marker(theboard,player1_marker,position)\n",
    "                \n",
    "            if win_check(theboard,player1_marker):\n",
    "                display(theboard)\n",
    "                print(\"Congratulations Player 1 has won the game\")\n",
    "                game_on=False\n",
    "            else:\n",
    "                if full_board(theboard):\n",
    "                    display(theboard)\n",
    "                    print(\"TIE GAME\")\n",
    "                    game_on=False\n",
    "                else:\n",
    "                    turn='Player 2'\n",
    "                \n",
    "        else:\n",
    "            display(theboard)\n",
    "            position=player_choice(theboard)\n",
    "            place_marker(theboard,player2_marker,position)\n",
    "                \n",
    "            if win_check(theboard,player2_marker):\n",
    "                display(theboard)\n",
    "                print(\"Congratulations Player 2 has won the game\")\n",
    "                game_on=False\n",
    "            else:\n",
    "                if full_board(theboard):\n",
    "                    display(theboard)\n",
    "                    print(\"TIE GAME\")\n",
    "                    game_on=False\n",
    "                else:\n",
    "                    turn='Player 1'\n",
    "    if not replay():\n",
    "        break"
   ]
  },
  {
   "cell_type": "code",
   "execution_count": null,
   "id": "38ef6812",
   "metadata": {},
   "outputs": [],
   "source": []
  },
  {
   "cell_type": "code",
   "execution_count": null,
   "id": "f044eafd",
   "metadata": {},
   "outputs": [],
   "source": []
  }
 ],
 "metadata": {
  "kernelspec": {
   "display_name": "Python 3 (ipykernel)",
   "language": "python",
   "name": "python3"
  },
  "language_info": {
   "codemirror_mode": {
    "name": "ipython",
    "version": 3
   },
   "file_extension": ".py",
   "mimetype": "text/x-python",
   "name": "python",
   "nbconvert_exporter": "python",
   "pygments_lexer": "ipython3",
   "version": "3.11.4"
  }
 },
 "nbformat": 4,
 "nbformat_minor": 5
}
